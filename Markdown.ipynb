{
 "cells": [
  {
   "cell_type": "markdown",
   "id": "ea34976f-7745-4907-b824-b80c4a6a8ae1",
   "metadata": {},
   "source": [
    "# Headings, Equations and References"
   ]
  },
  {
   "cell_type": "markdown",
   "id": "828474c8-9d6c-435d-ab6d-7048c7b0e7ce",
   "metadata": {},
   "source": [
    "This is a Markdown cell, by double clicking it you can view it in raw form and edit it. Using this type of cell you can add text blocks. The markdown cell supports several special characters, hence to start a new line,the special `<br>` character is used. the markdown cell also supports several headings sizes:\n",
    "\n",
    "# Heading 1\n",
    "## Heading 2\n",
    "### Heading 3\n",
    "#### Heading 4\n",
    "\n",
    "The heading fonts are applied by adding an increasing number of `#` at the beginning of the line:\n"
   ]
  },
  {
   "cell_type": "markdown",
   "id": "c7f891ef-9c37-4e8f-af1e-9fe5ed714095",
   "metadata": {},
   "source": [
    "```\n",
    "# Heading 1\n",
    "## Heading 2\n",
    "### Heading 3\n",
    "#### Heading 4\n",
    "```"
   ]
  },
  {
   "cell_type": "markdown",
   "id": "658f2cde-22af-4a9c-a9df-3df48d106f11",
   "metadata": {},
   "source": [
    "Latex equations can also be included in the notebooks, as inline mathematical expressions $e^{i\\pi} + 1 = 0$, using the `$` special symbol:"
   ]
  },
  {
   "cell_type": "markdown",
   "id": "712b5962-fdf8-4606-8810-6b0b194da2e3",
   "metadata": {},
   "source": [
    "```$e^{i\\pi} + 1 = 0$```"
   ]
  },
  {
   "cell_type": "markdown",
   "id": "8ef09f8e-6a8f-427e-8f39-329ffe8d21ae",
   "metadata": {},
   "source": [
    "Or as a new block. If you need to number equations for references, use the math directive. the following format \n"
   ]
  },
  {
   "cell_type": "markdown",
   "id": "a255edcf-dd86-4a36-9592-2127efdde8c7",
   "metadata": {},
   "source": [
    "````md\n",
    "```{math}\n",
    ":label: my_label\n",
    "w_{t+1} = (1 + r_{t+1}) s(w_t) + y_{t+1}\n",
    "```\n",
    "````\n",
    "\n",
    "will generate\n",
    "\n",
    "```{math}\n",
    ":label: my_label\n",
    "w_{t+1} = (1 + r_{t+1}) s(w_t) + y_{t+1}\n",
    "```"
   ]
  },
  {
   "cell_type": "markdown",
   "id": "cc4872c8-56ab-48cd-a5ee-b82ed5ee4db0",
   "metadata": {},
   "source": [
    "You can then link to it from within your text (and across pages!), using the label that you’ve provided by using the `{eq}` role. For example: <br>"
   ]
  },
  {
   "cell_type": "markdown",
   "id": "71038cde-bb96-4bef-a21e-64559aff7b50",
   "metadata": {},
   "source": [
    "```md\n",
    "- A link to an equation directive: {eq}`my_label`\n",
    "```"
   ]
  },
  {
   "cell_type": "markdown",
   "id": "c2ecb1ef-ff2c-47ce-8ee2-60c04da26b6c",
   "metadata": {},
   "source": [
    "results in"
   ]
  },
  {
   "cell_type": "markdown",
   "id": "1230048c-c4d7-4ebf-b9d5-c0bf97f48d6d",
   "metadata": {},
   "source": [
    "- A link to an equation directive: {eq}`my_label`\n"
   ]
  },
  {
   "cell_type": "markdown",
   "id": "2db63e7f-8f1d-4260-814e-1dac9a2e56e7",
   "metadata": {},
   "source": [
    "For additional markdown cell options you may visit:\n",
    "https://jupyter-notebook.readthedocs.io/en/latest/examples/Notebook/Working%20With%20Markdown%20Cells.html"
   ]
  }
 ],
 "metadata": {
  "kernelspec": {
   "display_name": "Python 3 (ipykernel)",
   "language": "python",
   "name": "python3"
  },
  "language_info": {
   "codemirror_mode": {
    "name": "ipython",
    "version": 3
   },
   "file_extension": ".py",
   "mimetype": "text/x-python",
   "name": "python",
   "nbconvert_exporter": "python",
   "pygments_lexer": "ipython3",
   "version": "3.10.12"
  }
 },
 "nbformat": 4,
 "nbformat_minor": 5
}
