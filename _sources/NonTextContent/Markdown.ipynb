{
 "cells": [
  {
   "cell_type": "markdown",
   "id": "ea34976f-7745-4907-b824-b80c4a6a8ae1",
   "metadata": {},
   "source": [
    "# Headings, Styling and Bibliography"
   ]
  },
  {
   "cell_type": "markdown",
   "id": "828474c8-9d6c-435d-ab6d-7048c7b0e7ce",
   "metadata": {},
   "source": [
    "Markdown cells support several special characters. Sometimes markdown doesn’t make line breaks when you want them. To force a linebreak, use the following code: `<br>`.\n",
    "\n",
    "Markdown cells also support several headings sizes:\n",
    "# Heading 1\n",
    "## Heading 2\n",
    "### Heading 3\n",
    "#### Heading 4\n",
    "\n",
    "The heading fonts are applied by adding an increasing number of `#` at the beginning of the line.\n"
   ]
  },
  {
   "cell_type": "markdown",
   "id": "c7f891ef-9c37-4e8f-af1e-9fe5ed714095",
   "metadata": {},
   "source": [
    "Additionally, Use the following code to emphasize text:\n",
    "\n",
    "Bold text: __string__ or **string**\n",
    "\n",
    "Italic text: _string_ or *string*"
   ]
  },
  {
   "cell_type": "markdown",
   "id": "2db63e7f-8f1d-4260-814e-1dac9a2e56e7",
   "metadata": {},
   "source": [
    "If you wish to add a bibliography, first add a reference to the BibTex file `references.bib`, i.e:\n",
    "\n",
    "```\n",
    "@article{perez2011python\n",
    ",\ttitle\t= {Python: an ecosystem for scientific computing}\n",
    ",\tauthor\t= {Perez, Fernando and Granger, Brian E and Hunter, John D}\n",
    ",\tjournal\t= {Computing in Science \\\\& Engineering}\n",
    ",\tvolume\t= {13}\n",
    ",\tnumber\t= {2}\n",
    ",\tpages\t= {13--21}\n",
    ",\tyear\t= {2011}\n",
    ",\tpublisher\t= {AIP Publishing}\n",
    "}\n",
    "```"
   ]
  },
  {
   "cell_type": "markdown",
   "id": "05a9abc3-e81a-48c9-80c8-448709c932db",
   "metadata": {},
   "source": [
    "Next, in the topic you can use the following format to cite this reference:\n",
    "\n",
    "\n",
    "Here is my nifty citation {cite}`perez2011python`.\n",
    "\n",
    "Re-build your book, and it should look like this:\n",
    "\n",
    "![title](../images/bibtex.png)"
   ]
  },
  {
   "cell_type": "markdown",
   "id": "0797957c-4380-4a11-ad75-b708d8d49a1a",
   "metadata": {},
   "source": [
    "Finally, we’ll generate a bibliography for our citations. Links to this bibliography will be automatically created when you cite something.\n",
    "\n",
    "We’ll use the `{bibliography}` directive to add one to our book. Add the following to your page:\n",
    "\n",
    "```{bibliography}\n",
    "```"
   ]
  },
  {
   "cell_type": "markdown",
   "id": "043eca50-d511-471a-8118-3c350f399a3a",
   "metadata": {},
   "source": [
    "This last directive will only be visible in the html version of your course. Now would be a great time to `./build.sh` the course again and watch the bibliography."
   ]
  },
  {
   "cell_type": "code",
   "execution_count": null,
   "id": "ef4a6985-e5fd-4de1-bbac-b49174c43511",
   "metadata": {},
   "outputs": [],
   "source": []
  }
 ],
 "metadata": {
  "kernelspec": {
   "display_name": "Python 3 (ipykernel)",
   "language": "python",
   "name": "python3"
  },
  "language_info": {
   "codemirror_mode": {
    "name": "ipython",
    "version": 3
   },
   "file_extension": ".py",
   "mimetype": "text/x-python",
   "name": "python",
   "nbconvert_exporter": "python",
   "pygments_lexer": "ipython3",
   "version": "3.10.12"
  }
 },
 "nbformat": 4,
 "nbformat_minor": 5
}
