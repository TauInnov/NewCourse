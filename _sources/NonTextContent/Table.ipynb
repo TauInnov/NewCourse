{
 "cells": [
  {
   "cell_type": "markdown",
   "id": "5f6da518-9506-4557-a82b-7bb5dcc98520",
   "metadata": {},
   "source": [
    "# Table"
   ]
  },
  {
   "cell_type": "markdown",
   "id": "73ccbac0-a360-4caf-81dc-afc843729ca0",
   "metadata": {},
   "source": [
    "Instead of using a language specific format, Jupyter Book allows you to simply add tables. Click the following cell and copy its content to create and edit your own table:\n",
    "\n",
    "| col 1 | col2 |\n",
    "| :-| -:|\n",
    "| x1 | x3 |\n",
    "| x2 | x4 |"
   ]
  },
  {
   "cell_type": "markdown",
   "id": "2374e4f2-12a0-451d-a3cd-b8b31e084ef5",
   "metadata": {},
   "source": [
    "A more sophisticated table:"
   ]
  },
  {
   "cell_type": "markdown",
   "id": "664505e3-3d99-47b5-b1fe-becb82a72a0d",
   "metadata": {},
   "source": [
    "| Feature          | Markdown Syntax               |\n",
    "|------------------|-------------------------------|\n",
    "| Bold Text        | **Bold Text**                 |\n",
    "| Italic Text      | *Italic Text*                 |\n",
    "| Inline Code      | \\`Inline Code\\`               |\n",
    "| Link             | [Link Text](https://example.com) |\n"
   ]
  }
 ],
 "metadata": {
  "kernelspec": {
   "display_name": "Python 3 (ipykernel)",
   "language": "python",
   "name": "python3"
  },
  "language_info": {
   "codemirror_mode": {
    "name": "ipython",
    "version": 3
   },
   "file_extension": ".py",
   "mimetype": "text/x-python",
   "name": "python",
   "nbconvert_exporter": "python",
   "pygments_lexer": "ipython3",
   "version": "3.10.12"
  }
 },
 "nbformat": 4,
 "nbformat_minor": 5
}
