{
 "cells": [
  {
   "cell_type": "markdown",
   "id": "db2cc1db-c540-4bfb-a690-9be2a51d0705",
   "metadata": {},
   "source": [
    "# Welcome! \n",
    "This template is an explanatory guide for creating your own webcourse.<br>\n",
    "This course template is based on Barak Hirshberg's Molecular Simulations course template,\n",
    "take a look: [Molecular Simulations](https://barakhirshberg.github.io/MolecularSimulations/intro.html)\n"
   ]
  },
  {
   "cell_type": "markdown",
   "id": "848922c7-9a4b-40c1-9bfc-8be172721a32",
   "metadata": {},
   "source": [
    "In this tutorial you will learn how to open, edit, publish and share a course in the Jupyter Lab environment, in order to create a Jupyter Book for your course.<br>\n",
    "On the left side of the screen you may find the contents of this Jupyter Book. Each `.ipynb` file represents a web page in the Jupyter Book. <br> The `.ipynb` files you can see on the left side of this screen include additional information you may use to edit your Jupyter Book pages. <br> \n",
    "After creating and editing content pages for your course notebooks, you can publish the Book and access your course online.\n"
   ]
  },
  {
   "cell_type": "markdown",
   "id": "384d1ca4-98fd-4a5e-9105-7c992361866e",
   "metadata": {},
   "source": [
    "To enter edit mode, you need to double click the current cell. This will allow you to make changes, try it! \n",
    "Clicking the play button on the top edit bar will make the changes take effect. You can also use the short key `Shift+Enter` to apply changes.\n",
    "Adding new cells can be done by using the second from right symbol in this current cell when in edit mode.\n",
    "Alternatively you can click in the left margin of this sell, then press `B` for a following new cell or `A` for adding it before the current cell.\n",
    "\n",
    "The notebooks supports two cell forms. on the top of this page, on the edit bar you will find a `Markdown` sign. Clicking it will open a selection menu with two important cell options:\n",
    "- `Markdown` : suitable for text and math.\n",
    "- `Code`: integrated code environment supporting python, with code execution and output display.\n",
    "You can learn more about these code cells in the additional notebooks.\n"
   ]
  },
  {
   "cell_type": "markdown",
   "id": "4898c92e-8ab3-4b07-9f3e-cb0e6df0e8b0",
   "metadata": {},
   "source": [
    "A template python notebook already exists in this directory, under the name Template.ipynb. You may edit it and use it as your first course page.\n",
    "Additionally, you can open a new notebook by clicking the plus sign on top of this page, select the notebook python3 launcher and rename the new notebook by right clicking its tab. \n"
   ]
  },
  {
   "cell_type": "markdown",
   "id": "00fe20f1-32af-489f-90a8-516ec119ed68",
   "metadata": {},
   "source": [
    "## Additional Notebooks\n",
    "\n",
    "#### [](./MetaFiles.ipynb)\n",
    "- contains all information aboud MetaData files required for The Jupyter Book.\n",
    "#### [](./Markdown.ipynb)\n",
    "- basic and general examples of edditing text and math in Books.\n",
    "#### [](./Tips.ipynb)\n",
    "- tutorial for special and nteractive cells, including notes, warnings, admonitions, and more.\n",
    "#### [](./Code.ipynb)\n",
    "- an example for python code integration in a Jupyter book.\n",
    "#### [](./Template.ipynb)\n",
    "- When you feel ready, you can edit this page as part of your Jupyter Book.\n"
   ]
  },
  {
   "cell_type": "markdown",
   "id": "353dc444-b9b7-428b-aed4-9c966d68857c",
   "metadata": {},
   "source": []
  }
 ],
 "metadata": {
  "kernelspec": {
   "display_name": "Python 3 (ipykernel)",
   "language": "python",
   "name": "python3"
  },
  "language_info": {
   "codemirror_mode": {
    "name": "ipython",
    "version": 3
   },
   "file_extension": ".py",
   "mimetype": "text/x-python",
   "name": "python",
   "nbconvert_exporter": "python",
   "pygments_lexer": "ipython3",
   "version": "3.10.12"
  }
 },
 "nbformat": 4,
 "nbformat_minor": 5
}
