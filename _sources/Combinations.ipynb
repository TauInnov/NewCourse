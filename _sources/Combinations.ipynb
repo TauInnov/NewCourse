{
 "cells": [
  {
   "cell_type": "markdown",
   "id": "cf522005-8bc6-4cda-b229-2baf543b930b",
   "metadata": {},
   "source": [
    "## Text and Code combinations\n",
    "In some special cases, you would like to create a Markdown cell with code integration (i.e. ) or a code cell containing some explanations."
   ]
  },
  {
   "cell_type": "code",
   "execution_count": 1,
   "id": "9a734dd6-8790-4ef9-9051-8c6fda284960",
   "metadata": {},
   "outputs": [
    {
     "ename": "SyntaxError",
     "evalue": "invalid syntax (4010561087.py, line 1)",
     "output_type": "error",
     "traceback": [
      "\u001b[0;36m  Cell \u001b[0;32mIn[1], line 1\u001b[0;36m\u001b[0m\n\u001b[0;31m    markdown cell with python code\u001b[0m\n\u001b[0m             ^\u001b[0m\n\u001b[0;31mSyntaxError\u001b[0m\u001b[0;31m:\u001b[0m invalid syntax\n"
     ]
    }
   ],
   "source": [
    "markdown cell with python code\n"
   ]
  },
  {
   "cell_type": "code",
   "execution_count": null,
   "id": "2f3a7324-3937-4a57-ab90-94b7df45a636",
   "metadata": {},
   "outputs": [],
   "source": [
    "python cell with markdown"
   ]
  }
 ],
 "metadata": {
  "kernelspec": {
   "display_name": "Python 3 (ipykernel)",
   "language": "python",
   "name": "python3"
  },
  "language_info": {
   "codemirror_mode": {
    "name": "ipython",
    "version": 3
   },
   "file_extension": ".py",
   "mimetype": "text/x-python",
   "name": "python",
   "nbconvert_exporter": "python",
   "pygments_lexer": "ipython3",
   "version": "3.10.12"
  }
 },
 "nbformat": 4,
 "nbformat_minor": 5
}
