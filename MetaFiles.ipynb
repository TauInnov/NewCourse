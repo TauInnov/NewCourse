{
 "cells": [
  {
   "cell_type": "markdown",
   "id": "25b73192-cc67-4e3d-ba9a-4219ed59d5bf",
   "metadata": {},
   "source": [
    "# Book Structure and Meta files\n",
    "\n",
    "Jupyter Book requires 3 `.yml` files which are already included in this repository: <br>\n",
    "* ### _config.yml <br>\n",
    "All of the configurations for your book, including metadata, bibtex file for citations and more. You may edit this file with your course title, autor and logo (this requires you to upload a photo to this repository and edit the logo path).\n",
    "* ### _toc.yml <br>\n",
    "Your Book’s order is determined by a table of contents, a structure that Jupyter Book uses to create the order and nesting of pages. This Book holds the Welcome page at it's root, which is the main page users will see when accessing the Book website. All other files that appear under the chapter section will be included in the book in the same order. Files that are not mentioned in the table of contents will not appear as part of the Book, while still being acessible in edit mode and in the Github repository.\n",
    "* ### environment.yml (optional) <br>\n",
    "This file describes the python packages dependencies. This allows you to automatically import any python package for all the pages in the Book. Don't worry, you can always manually import any additional package. "
   ]
  },
  {
   "cell_type": "markdown",
   "id": "43710558-fd5e-4614-b699-cdf77956abd2",
   "metadata": {},
   "source": [
    "For any change in one of these files to take effect, you will need to clean and rebuild the book and publish it.\n"
   ]
  },
  {
   "cell_type": "code",
   "execution_count": null,
   "id": "2ff6136e-e337-42f4-951d-aff4b82b38c8",
   "metadata": {},
   "outputs": [],
   "source": []
  }
 ],
 "metadata": {
  "kernelspec": {
   "display_name": "Python 3 (ipykernel)",
   "language": "python",
   "name": "python3"
  },
  "language_info": {
   "codemirror_mode": {
    "name": "ipython",
    "version": 3
   },
   "file_extension": ".py",
   "mimetype": "text/x-python",
   "name": "python",
   "nbconvert_exporter": "python",
   "pygments_lexer": "ipython3",
   "version": "3.10.12"
  }
 },
 "nbformat": 4,
 "nbformat_minor": 5
}
