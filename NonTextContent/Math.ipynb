{
 "cells": [
  {
   "cell_type": "markdown",
   "id": "079a585a-7aaf-43d6-be31-b83c2d4f4de7",
   "metadata": {},
   "source": [
    "# Math Expressions"
   ]
  },
  {
   "cell_type": "markdown",
   "id": "70b6657d-c2b2-4f58-9183-9418a94b4f77",
   "metadata": {},
   "source": [
    "Latex equations can also be included in the notebooks in Markdown cells, as inline mathematical expressions $e^{i\\pi} + 1 = 0$, using the `$` special symbol:\n"
   ]
  },
  {
   "cell_type": "markdown",
   "id": "cf748057-b9f5-4fe8-b438-abafc8937d84",
   "metadata": {},
   "source": [
    "```$e^{i\\pi} + 1 = 0$```"
   ]
  },
  {
   "cell_type": "markdown",
   "id": "3f632727-faaa-42b2-963f-ab1dd8113b2b",
   "metadata": {},
   "source": [
    "Or as a new cell. If you need to number equations for references, use the math directive. the following format \n"
   ]
  },
  {
   "cell_type": "markdown",
   "id": "e0963846-577a-41a9-bcd2-0429e9e3d44c",
   "metadata": {},
   "source": [
    "```{math}\n",
    ":label: my_label\n",
    "w_{t+1} = (1 + r_{t+1}) s(w_t) + y_{t+1}\n",
    "```\n",
    "\n",
    "will generate"
   ]
  },
  {
   "cell_type": "markdown",
   "id": "b4338457-784e-475b-b70a-ab593daf9a6c",
   "metadata": {},
   "source": [
    "![title](../images/equation.png)"
   ]
  },
  {
   "cell_type": "markdown",
   "id": "b0a8a330-f193-4e6d-9b37-a8e7497d19b5",
   "metadata": {},
   "source": [
    "You can then link to it from within your text (and across pages!) using the label that you’ve provided by using the `{eq}` role. For example: <br>"
   ]
  },
  {
   "cell_type": "markdown",
   "id": "c4f210bb-ac8a-48b8-8b0c-1b040edb436c",
   "metadata": {},
   "source": [
    "- A link to an equation directive: `{eq}`my_label`"
   ]
  },
  {
   "cell_type": "markdown",
   "id": "03288c5a-f266-467a-b22e-e36c4ae7ad16",
   "metadata": {},
   "source": [
    "Keep in mind the equations appearance in this environment is limited. To actually see the user view you will need to `./build.sh` the course again (using the script mentioned in the Welcome page) and view the reader mode."
   ]
  },
  {
   "cell_type": "code",
   "execution_count": null,
   "id": "5be0787e-b58f-408f-a3d8-b3b62207d02c",
   "metadata": {},
   "outputs": [],
   "source": []
  }
 ],
 "metadata": {
  "kernelspec": {
   "display_name": "Python 3 (ipykernel)",
   "language": "python",
   "name": "python3"
  },
  "language_info": {
   "codemirror_mode": {
    "name": "ipython",
    "version": 3
   },
   "file_extension": ".py",
   "mimetype": "text/x-python",
   "name": "python",
   "nbconvert_exporter": "python",
   "pygments_lexer": "ipython3",
   "version": "3.10.12"
  }
 },
 "nbformat": 4,
 "nbformat_minor": 5
}
