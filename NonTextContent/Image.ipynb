{
 "cells": [
  {
   "cell_type": "markdown",
   "id": "27c91140-9e01-4f59-bfef-0312b3cd9970",
   "metadata": {},
   "source": [
    "# Image"
   ]
  },
  {
   "cell_type": "markdown",
   "id": "56f8ffdc-2ad7-45a6-b72d-22edb05d27c7",
   "metadata": {},
   "source": [
    "To include an image, you can use Markdown syntax by employing the ![Alt Text](image.jpg) format, where Alt Text is a brief description of the image and image.jpg is the path or URL of the image file."
   ]
  },
  {
   "cell_type": "markdown",
   "id": "e8600e1c-a18c-423e-ba9d-adc974f3fe28",
   "metadata": {},
   "source": [
    "For example: <br>\n",
    "![title](../images/tau_logo.jpg)"
   ]
  },
  {
   "cell_type": "markdown",
   "id": "a25eb072-df83-4e7d-985e-96c4aa4c12cf",
   "metadata": {},
   "source": [
    "bear in mind that the path to the image is relative, hence if you have a topic in a folder and the image in another folder, use the suffix `../` before the name of the desired folder."
   ]
  },
  {
   "cell_type": "markdown",
   "id": "3fad6bbc-ba59-4768-856c-a34bc63b2eef",
   "metadata": {},
   "source": [
    "If you wish to change the size and location of the image, use the following format in a separate block:"
   ]
  },
  {
   "cell_type": "markdown",
   "id": "4c2bb6ca-f93b-4084-ab2a-9c3bde5967e4",
   "metadata": {},
   "source": [
    "```{figure} ../images/tau_logo.jpg\n",
    ":height: 100px\n",
    ":name: label\n",
    "\n",
    "Here is my image!\n",
    "```"
   ]
  },
  {
   "cell_type": "markdown",
   "id": "d4e46936-dffa-4e58-bcce-22088a9987d0",
   "metadata": {},
   "source": [
    "The second format will be visible only in reader mode."
   ]
  },
  {
   "cell_type": "code",
   "execution_count": null,
   "id": "b0777246-469c-4701-846d-34cccb534d56",
   "metadata": {},
   "outputs": [],
   "source": []
  }
 ],
 "metadata": {
  "kernelspec": {
   "display_name": "Python 3 (ipykernel)",
   "language": "python",
   "name": "python3"
  },
  "language_info": {
   "codemirror_mode": {
    "name": "ipython",
    "version": 3
   },
   "file_extension": ".py",
   "mimetype": "text/x-python",
   "name": "python",
   "nbconvert_exporter": "python",
   "pygments_lexer": "ipython3",
   "version": "3.10.12"
  }
 },
 "nbformat": 4,
 "nbformat_minor": 5
}
