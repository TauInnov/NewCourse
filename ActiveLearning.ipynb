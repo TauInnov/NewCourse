{
 "cells": [
  {
   "cell_type": "markdown",
   "id": "37fcd700-acc6-4519-b77c-31c9ba0b474b",
   "metadata": {},
   "source": [
    "## Active Learning, Notes, warnings, and others\n",
    "\n",
    "Jupyter Book allows you to make the learning more interactive and versatile. You can highlight a particular block of text that exists slightly apart from the narrative of your page. To make things easier, just copy the required block:\n",
    "\n",
    "```{note}\n",
    "Here is a note!\n",
    "```\n",
    "Similarly, you may use\n",
    "```{warning}\n",
    "Here is a warning!\n",
    "```\n",
    "```{admonition} Here's your admonition\n",
    "Here's the admonition content\n",
    "```\n",
    "or use special style blocks:\n",
    "`````{admonition} This admonition was styled...\n",
    ":class: tip\n",
    "With a tip class!\n",
    "`````\n",
    "and even dropdown blocks for active learning:\n",
    "```{admonition} Active learning\n",
    ":class: tip\n",
    "here is the question.\n",
    "```\n",
    "```{admonition} Solution\n",
    ":class: dropdown\n",
    "here is the solution!\n",
    "```\n"
   ]
  },
  {
   "cell_type": "markdown",
   "id": "6b160627-3e3f-46a7-b506-430254f82582",
   "metadata": {},
   "source": [
    "Remember these special blocks will be visible only in the reader mode."
   ]
  }
 ],
 "metadata": {
  "kernelspec": {
   "display_name": "Python 3 (ipykernel)",
   "language": "python",
   "name": "python3"
  },
  "language_info": {
   "codemirror_mode": {
    "name": "ipython",
    "version": 3
   },
   "file_extension": ".py",
   "mimetype": "text/x-python",
   "name": "python",
   "nbconvert_exporter": "python",
   "pygments_lexer": "ipython3",
   "version": "3.10.12"
  }
 },
 "nbformat": 4,
 "nbformat_minor": 5
}
