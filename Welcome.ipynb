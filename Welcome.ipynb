{
 "cells": [
  {
   "cell_type": "markdown",
   "id": "db2cc1db-c540-4bfb-a690-9be2a51d0705",
   "metadata": {},
   "source": [
    "# Tutorial\n",
    "Welcome! This template is a guide for creating a new course at Tel Aviv University, the Faculty of Exact Sciences, using the Jupyter Book library. It is based on Barak Hirshberg's Molecular Simulations course, whose source code is available at the following link: [Molecular Simulations](https://barakhirshberg.github.io/MolecularSimulations/intro.html)\n",
    "\n",
    "Jupyter Book is an open-source library used for creating interactive, web-based books and documents from Jupyter notebooks. It allows authors to combine text, code, mathematical equations, visualizations, and other multimedia content into a cohesive narrative that can be easily shared and published online. \n"
   ]
  },
  {
   "cell_type": "markdown",
   "id": "848922c7-9a4b-40c1-9bfc-8be172721a32",
   "metadata": {},
   "source": [
    "## Goal\n",
    "In this tutorial, you will learn how to open and edit your course using the GitHub codespaces environment, as well as building the course and publishing it as an HTML website using GitHub pages. (Don't worry! it will become clear soon.)\n",
    "\n",
    "## 1. Course Structure\n",
    "\n",
    "Just like on Moodle, every course is built from several topics/lessons. Each one is an `.ipynb` file which includes all the relevant material. All files should be placed in the main directory, accessible by clicking the explorer button ![explorer](images/explorer.jpg) found on the left side of the screen). File with the suffix `.yml` are settings and configuration files. The most important ones are `_toc.yml` which defines the structure of your course and `_config.yml` for general settings."
   ]
  },
  {
   "cell_type": "markdown",
   "id": "384d1ca4-98fd-4a5e-9105-7c992361866e",
   "metadata": {
    "tags": []
   },
   "source": [
    "## 2. Editing cells\n",
    "Every topic/lesson notebook is composed of several cells. Each cell can be edited separately. To enter edit mode, you need to double click the cell. This will allow you to make changes, **try editing this cell now!**"
   ]
  },
  {
   "cell_type": "markdown",
   "id": "14d19b89-64ba-4588-92d3-6acddf808ece",
   "metadata": {},
   "source": [
    "## 3. Apply changes\n",
    "Clicking the `V` sign on the top right of this cell will make the changes take effect in the cell. You can also use the short key `Shift+Enter` to apply changes. **Go back to the previous cell and try it!**\n"
   ]
  },
  {
   "cell_type": "markdown",
   "id": "a63ea8c3-f64c-4e58-ab40-7b17c41ca3e2",
   "metadata": {
    "tags": []
   },
   "source": [
    "## 4. Adding cells\n",
    "You can click the three dots on the right top right of this cell, and select the insert cell menu. You can add `Markdown` cells or `Code` cells.\n",
    "\n",
    "**Try adding a new Markdown cell below this one now.**"
   ]
  },
  {
   "cell_type": "markdown",
   "id": "b839ecd1-4ca0-465c-80fd-f95391fa1aae",
   "metadata": {},
   "source": [
    "## 5. Cell types\n",
    "The notebooks supports two cell forms. Click the three dots on the right of this cell. You can switch between `Code` and `Markdown` cells:\n",
    "- `Markdown` : suitable for text and math.\n",
    "- `Code`: integrated code environment supporting python, with code execution and output display.\n",
    "\n",
    "**Try changing the type of the cell you just added to Code, the change back to Markdown.**"
   ]
  },
  {
   "cell_type": "markdown",
   "id": "6ffcffc1-e051-4cca-8f2f-5cc02ccf5ca2",
   "metadata": {},
   "source": [
    "## 6. Formatting text\n",
    "Markdown cells are pretty flexible with formatting. \n",
    "We have provided several examples for headings, styling and including bibliographic references in the file\n",
    "{doc}`Markdown <AdditionalContent/Markdown>`.\n",
    "\n",
    "**Try adding several heading, text in italics, and text in bold font to the cell you just added.**"
   ]
  },
  {
   "cell_type": "markdown",
   "id": "a8beb2fc-08bd-4048-a07b-dcc74c1a038e",
   "metadata": {},
   "source": [
    "## 7. Special, non-text content\n",
    "Jupyter Book supports special content, such as:\n",
    "- {doc}`Math equations <AdditionalContent/Math>`\n",
    "- {doc}`Python plots <AdditionalContent/CodeAndPlots>`\n",
    "- {doc}`Images <AdditionalContent/Image>`\n",
    "- {doc}`Tables <AdditionalContent/Table>`\n",
    "- {doc}`Active learning questions <AdditionalContent/ActiveLearning>`\n",
    "\n",
    "We have provided examples for each component in a separate, appropriately names `.ipynb` file, which are available on the left side of the screen, in the `Additional Content` folder. The goal is for you to copy the cells from them and paste them in your topic notebook, as appropriate. Keep in mind some of the features will be visible only in the `html` course format (explained below).\n",
    "\n",
    "**Try adding a new cell after this one, change its type to Markdown, and include a math equation or an active learning question.**"
   ]
  },
  {
   "cell_type": "markdown",
   "id": "4898c92e-8ab3-4b07-9f3e-cb0e6df0e8b0",
   "metadata": {},
   "source": [
    "## 8. Adding new topics/lessons\n",
    "You can open a new notebook by clicking the three lines button ![threelines](images/threelines.jpg) on the top left side of this page, and selecting `File`, then `New File`. This will open a menu on the top of this page. Name your new topic file and select the jupyter notebook to add it.  \n",
    "\n",
    "**Please create a new topic now, called `Topic1.ipynb` and create a new Markdown cell with some text in it.**\n",
    "\n"
   ]
  },
  {
   "cell_type": "markdown",
   "id": "d5380518-a419-4d15-a1b8-6902967b64ca",
   "metadata": {},
   "source": [
    "## 9. Editing the Table of Contents\n",
    "On the left side of this page in the list you will find the `_toc.yml` file. The structure of your course is determined by this file.\n",
    "This template has the Welcome page as its root, which is the first page users will see when accessing the course website. All other files that appear under the chapter section will be included in the course in that order. \n",
    "Files that are not mentioned in the table of contents will not appear as part of the course website, but you can still edit them and they will saved in your repository. \n",
    "\n",
    "**Click the `_toc.yml` file now and add a the new topic you just created to the course by adding `- file: Topic 1` in a new line.**"
   ]
  },
  {
   "cell_type": "markdown",
   "id": "e2b3178d-486c-4ac8-82e2-b8d15a81bb2f",
   "metadata": {},
   "source": [
    "## 10. Save and track your changes\n",
    "Saving and tracking your work with GitHub is one of the most popular ways to manage your coding projects (including this course). \n",
    "On the left side of the screen click the `Source Control` button ![sourcecontrol](images/github.jpg). This will open a left menu. In the message line, add a short message describing the changes you have made, then push the green `Commit` button. ON the message prompt click `Yes`, the push the new green button `Publish`. A new menu will open, Rename your course repository and publish it to github. The opened menu allows you to create a private or public repository (private may work only under Pro github account). Note that setting your repository public will allow your students to access unpublished content of the course.\n",
    "\n",
    "**Try it now!**\n",
    "\n",
    "This is the first commit. from now on every time you wish to save changes, open the `Source Control` panel, commit your changes with a message, then push the green `Sync` button."
   ]
  },
  {
   "cell_type": "markdown",
   "id": "5a4d35c0",
   "metadata": {},
   "source": [
    "## 11. Setup Jupyter Book\n",
    "Before we can update the changes you have made to this course, we need to setup the Jupyter Book environment. This needs to be done **only once**, Codespaces will save your setup for future uses.\n",
    "\n",
    "- Click the three lines button ![threelines](images/threelines.jpg) on the top left side of this page, select `Terminal` then `New terminal`. this will open a command line window.\n",
    "- Type `cd scripts` and push `Enter` to access the scripts folder.\n",
    "- To setup the codespace, type `./setup.sh` and push `Enter`.\n",
    "\n",
    "**Setup the environment now.**"
   ]
  },
  {
   "cell_type": "markdown",
   "id": "8e81d661-bf2f-4dca-ac2b-980604dea5da",
   "metadata": {},
   "source": [
    "## 12. Update the course locally (build)\n",
    "Next, we would like to update the changes you have made to this course and look at a preview of the website before publishing it. \n",
    "On the left side of your screen, in the `scripts` directory, you will find multiple auxiliary bash scripts. These scripts will allow you to handle and manage the updates to this course, without being familiar with Linux.\n",
    "\n",
    "Build the course Website:\n",
    "- on the opened terminal in the scripts directory, type `./clean.sh` and push `Enter` to remove any existing build data.\n",
    "- Next type `./build.sh` and push `Enter` for the changes to take effect.\n",
    "\n",
    "**Try locally building your website now.**"
   ]
  },
  {
   "cell_type": "markdown",
   "id": "7e7c6560-89a8-45f3-b632-bec49f6d9e3a",
   "metadata": {},
   "source": [
    "## 13. Preview the website\n",
    "After calling the `./build.sh` script, local `.html` files will be built. You can preview your website by using the Preview Extension. First select the `Extensions` buttons ![extensions](images/extensions.jpg) to your left and type `Preview`. click `install` on the second extension `Live Preview` by Microsoft. \n",
    "\n",
    "Next, click the left explorer button and access the following file in your course directory:\n",
    "- Access the `_build` folder, then enter the `html` folder.\n",
    "- Right click the file `index.html` and select the `Show Preview` option. this will open a web page where you can see the current version of your course. \n",
    "If you wish to preview it full screen, select the 4 lines button in the preview screen, on the right to the address and click `open in browser`. Remember this is a local file, we still need to publish it online for the course to be globaly accessible. \n",
    "\n",
    "**Try and preview the website before proceeding:** "
   ]
  },
  {
   "cell_type": "markdown",
   "id": "90ab3a8c-0371-4c12-ba86-615875d4ac8b",
   "metadata": {},
   "source": [
    "## 14. Publish book online \n",
    "Jupyter Book makes it easy to publish your work online with the 'ghp-import' package. This script helps you quickly put your Jupyter Notebooks, Markdown files, and other content onto GitHub Pages, a place where you can share your work with others. Instead of worrying about the technical stuff, like how to convert your files or where to put them, the script takes care of it for you:\n",
    "- Click the three lines button ![threelines](images/threelines.jpg) on the top left side of this page, select `Terminal` then `New terminal`. this will open a command line window.\n",
    "- Type `cd scripts` and push `Enter` to access the scripts folder.\n",
    "- Type `./publish.sh` and push `Enter` to deploy your Jupyter Books onto GitHub Pages. <br>\n",
    "\n",
    "Remember, this command is called after you built your course locally, so keep in mind the online course will match your local version.\n",
    "\n",
    "**Try publishing your course website now! Insert your github UserName and CourseName and go to the following address:**\n",
    "(https://UserName.github.io/CourseName/)\n",
    "Please be patient, this action can take several minutes before the site appears online. "
   ]
  },
  {
   "cell_type": "markdown",
   "id": "203ec7da",
   "metadata": {},
   "source": [
    "## 15. Exiting the Codespace environment \n",
    "If you wish to exit the Codespace environment, you can just close this Tab. Github keeps the environment in an idle mode. You can access the Codespace environment again from your github account clicking the centered green button `Code` and selecting the `Codespace` tab."
   ]
  }
 ],
 "metadata": {
  "kernelspec": {
   "display_name": "Python 3 (ipykernel)",
   "language": "python",
   "name": "python3"
  },
  "language_info": {
   "codemirror_mode": {
    "name": "ipython",
    "version": 3
   },
   "file_extension": ".py",
   "mimetype": "text/x-python",
   "name": "python",
   "nbconvert_exporter": "python",
   "pygments_lexer": "ipython3",
   "version": "3.9.7"
  }
 },
 "nbformat": 4,
 "nbformat_minor": 5
}
