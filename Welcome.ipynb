{
 "cells": [
  {
   "cell_type": "markdown",
   "id": "db2cc1db-c540-4bfb-a690-9be2a51d0705",
   "metadata": {},
   "source": [
    "# Welcome! \n",
    "This template is a guide for creating a new course at Tel Aviv University, the Faculty of Exact Sciences, using the Jupyter Book library. It is based on Barak Hirshberg's Molecular Simulations course, whose source code is available at the following link: [Molecular Simulations](https://barakhirshberg.github.io/MolecularSimulations/intro.html)\n",
    "\n",
    "Jupyter Book is an open-source library used for creating interactive, web-based books and documents from Jupyter notebooks. It allows authors to combine text, code, mathematical equations, visualizations, and other multimedia content into a cohesive narrative that can be easily shared and published online. \n"
   ]
  },
  {
   "cell_type": "markdown",
   "id": "848922c7-9a4b-40c1-9bfc-8be172721a32",
   "metadata": {},
   "source": [
    "## Goal\n",
    "In this tutorial, you will learn how to open and edit your course using the Jupyter Lab environment, as well as building it locally and publishing it as an HTML website using GitHub pages. (Don't worry! it will become clear soon.)\n",
    "\n",
    "## 1. Course Structure\n",
    "\n",
    "Just like on Moodle, every course is built from several topics/lessons. Each one is an `.ipynb` file which includes all the relevant material. All files should be placed in the main directory (found on the left side of the screen). File with the suffix `.yml` are settings and configuration files. The most important ones are `_toc.yml` which defines the structure of your book and `_config.yml` for general settings.\n",
    "\n",
    "<!-- \n",
    "# This is the basic structure of a Book:\n",
    "\n",
    " \n",
    "- #### Book Directory:\n",
    "This is the main directory (found on the left side of the screen), which contains all the files and folders related to your course Book.\n",
    "- #### Chapters and Sections:\n",
    "Each chapter of your book typically corresponds to a Jupyter notebook file (`.ipynb`) or a Markdown file (`.md`). These files contain the actual content of your book, including text, code, and visualizations.\n",
    "- #### Table of Contents (toc.yml):\n",
    "A `.yml` file that defines the structure of your book, including chapters, sections, and subsections. It serves as the roadmap for navigating through your book.\n",
    "- #### Configuration Files:\n",
    "These files define various settings and options for your book, such as theme customization, plugins, and metadata. Common configuration files include _config.yml for general settings and _toc.yml for customizing the table of contents.\n",
    "- #### Output Files:\n",
    "When you build your book (We will exaplin later how), Jupyter Book generates HTML pages and other output formats (e.g., PDF, ePub) based on your content and configuration. These output files are stored in a the `_build` directory at the top of the topics to the left.\n",
    "- #### Scripts:\n",
    "Building, publishing and uploading your Book to the web might seem tricky at first. To make things easier we creates several scripts with indicative names that do the work for you. These scripts can be found in the `scripts` directory.\n",
    "-->"
   ]
  },
  {
   "cell_type": "markdown",
   "id": "384d1ca4-98fd-4a5e-9105-7c992361866e",
   "metadata": {
    "tags": []
   },
   "source": [
    "## 2. Editing topics\n",
    "Every topic/lesson notebook is composed of several cells. Each cell can be edited separately. To enter edit mode, you will need to double click the cell. This will allow you to make changes, **try editing this cell now!**"
   ]
  },
  {
   "cell_type": "markdown",
   "id": "14d19b89-64ba-4588-92d3-6acddf808ece",
   "metadata": {},
   "source": [
    "## 3. Apply changes\n",
    "Clicking the play button ![title](images/play.png) on the top edit bar will make the changes take effect in this current cell. You can also use the short key `Shift+Enter` to apply changes. **Go back to the previous cell and try it!**\n"
   ]
  },
  {
   "cell_type": "markdown",
   "id": "a63ea8c3-f64c-4e58-ab40-7b17c41ca3e2",
   "metadata": {
    "tags": []
   },
   "source": [
    "## 4. Adding cells\n",
    "Clicking on the plus button `+` on the top edit bar will add a new cell.\n",
    "Alternatively, you can click in the left margin of this sell, then press `B` for ading a cell following the current one, or `A` for adding one before the current cell. **Try adding a new cell after this one now.**"
   ]
  },
  {
   "cell_type": "markdown",
   "id": "b839ecd1-4ca0-465c-80fd-f95391fa1aae",
   "metadata": {},
   "source": [
    "## 5. Cell types\n",
    "The notebooks supports two cell forms. On the top of this page, on the edit bar, you will find a `Markdown` sign. It means the selected cell is meant for text. You can change it by clicking on it and selecting one of the two options:\n",
    "- `Markdown` : suitable for text and math.\n",
    "- `Code`: integrated code environment supporting python, with code execution and output display.\n",
    "\n",
    "**Change the type of the cell you just added to Markdown**"
   ]
  },
  {
   "cell_type": "markdown",
   "id": "6ffcffc1-e051-4cca-8f2f-5cc02ccf5ca2",
   "metadata": {},
   "source": [
    "## 6. Formatting text\n",
    "Markdown cells are pretty flexible with formatting. \n",
    "We have provided several examples for headings, styling and including bibliographic references in the file `Markdown.ipynb`.\n",
    "\n",
    "**Try adding several heading, text in italics, and text in bold font to the cell you just added.**"
   ]
  },
  {
   "cell_type": "markdown",
   "id": "a8beb2fc-08bd-4048-a07b-dcc74c1a038e",
   "metadata": {},
   "source": [
    "## 7. Special, non-text content\n",
    "Jupyter Book supports special content, such as:\n",
    "\n",
    "- Math equations\n",
    "- Python plots\n",
    "- Images\n",
    "- Tables\n",
    "- Active learning questions\n",
    "\n",
    "We have provided examples for each component in a separate, appropriately names `.ipynb` file, which are available on the left side of the screen. The goal is for you to copy the cells from them and paste them in your topic notebook, as appropriate.\n",
    "\n",
    "**Try adding a new cell after this one, change its type to Markdown, and include a math equation or an active learning question.**"
   ]
  },
  {
   "cell_type": "markdown",
   "id": "4898c92e-8ab3-4b07-9f3e-cb0e6df0e8b0",
   "metadata": {},
   "source": [
    "## 8. Adding new topics/lessons\n",
    "You can open a new notebook by clicking the blue plus sign `+` on the top left side of this page, and selecting the notebook python3 launcher. You can also click File - New - Notebook. Rename the new notebook by right clicking its tab. \n",
    "\n",
    "**Please create a new topic now, called `Topic1.ipynb` and create a new Markdown cell with some text in it.**\n",
    "\n"
   ]
  },
  {
   "cell_type": "markdown",
   "id": "d5380518-a419-4d15-a1b8-6902967b64ca",
   "metadata": {},
   "source": [
    "## 9. Editing the Table of Contents (_toc.yml file)\n",
    "On the left side of this page in the list you will find the `_toc.yml` file. The structure of your course is determined by this file.\n",
    "This template has the Welcome page as its root, which is the first page users will see when accessing the course website. All other files that appear under the chapter section will be included in the course in that order. \n",
    "Files that are not mentioned in the table of contents will not appear as part of the course website, but you can still edit them and they will saved in your repository. \n",
    "\n",
    "**Click the `_toc.yml` file now and add a the new topic you just created to the course by adding `- file: Topic 1` in a new line.**"
   ]
  },
  {
   "cell_type": "markdown",
   "id": "8e81d661-bf2f-4dca-ac2b-980604dea5da",
   "metadata": {},
   "source": [
    "## 10. Update the course locally (build)\n",
    "Next, we would like to update the changes you have made to this course and look at a preview of the website before publishing it. \n",
    "On the left side of your screen, in the `scripts` directory, you will find multiple auxiliary bash scripts. These scripts will allow you to handle and manage the updates to this book, without being familiar with Linux.\n",
    "\n",
    "- Click the plus sign `+` in the tab menu to open a new tab and, under the `Other` section, select `terminal`.\n",
    "The new opened window allow you to run scripts through the command line.\n",
    "- First type `cd scripts` and push `Enter` to access the scripts folder.\n",
    "- In order to update your Book changes, first type `./clean.sh` and push `Enter` to remove any existing build data.\n",
    "- Next type `./build.sh` and push `Enter` for the changes to take effect.\n",
    "\n",
    "**Try locally building your website now.**"
   ]
  },
  {
   "cell_type": "markdown",
   "id": "7e7c6560-89a8-45f3-b632-bec49f6d9e3a",
   "metadata": {},
   "source": [
    "## 11. Preview the website\n",
    "After calling the `./build.sh` script local `.html` files will be built. You can access this file in your course directory:\n",
    "- Access the `_build` folder, then enter the `html` folder.\n",
    "- Double clicking the file `index.html` will open a web page where you can see the current version of your webcourse. Remember this is a local file, we still need to publish it online for the course to be globaly accessible. \n",
    "\n",
    "**Try and preview the website before proceeding.**"
   ]
  },
  {
   "cell_type": "markdown",
   "id": "90ab3a8c-0371-4c12-ba86-615875d4ac8b",
   "metadata": {},
   "source": [
    "## 12. Publish book online \n",
    "Jupyter Book makes it easy to publish your work online with the 'ghp-import' package. This script helps you quickly put your Jupyter Notebooks, Markdown files, and other content onto GitHub Pages, a place where you can share your work with others. Instead of worrying about the technical stuff, like how to convert your files or where to put them, the script takes care of it for you:\n",
    "- Click the plus sign `+` in the tab menu to open a new tab and under the `Other` section select `terminal`.\n",
    "- Type `cd scripts` and push `Enter` to access the scripts folder.\n",
    "- Type `./publish.sh` and push `Enter` to deploy your Jupyter Books onto GitHub Pages. <br>\n",
    "\n",
    "Remember, this command is called after you built your Book locally, so keep in mind the online book will match your local version.\n",
    "\n",
    "**Try publishing your course website now!**"
   ]
  },
  {
   "cell_type": "markdown",
   "id": "e2b3178d-486c-4ac8-82e2-b8d15a81bb2f",
   "metadata": {},
   "source": [
    "## 13. Save and track your changes with git\n",
    "Saving and tracking your work with GitHub is one of the most poplar ways to manage your coding projects (including this course). \n",
    "With the script we provide, you can easily save your work and track the changes you made. If you're working with others, Git helps you stay coordinated by letting you see their updates and share your own. The process of saving you change to GitHub is called commiting and pushing.\n",
    "\n",
    "To commit and push your changes:\n",
    "- Click the plus sign `+` in the tab menu to open a new tab and under the `Other` section select `terminal`.\n",
    "- Type `cd scripts` and push `Enter` to access the scripts folder.\n",
    "- Type `./commit_push.sh` and push `Enter` to add the changes to the github repository, and push it online. "
   ]
  }
 ],
 "metadata": {
  "kernelspec": {
   "display_name": "Python 3 (ipykernel)",
   "language": "python",
   "name": "python3"
  },
  "language_info": {
   "codemirror_mode": {
    "name": "ipython",
    "version": 3
   },
   "file_extension": ".py",
   "mimetype": "text/x-python",
   "name": "python",
   "nbconvert_exporter": "python",
   "pygments_lexer": "ipython3",
   "version": "3.9.7"
  }
 },
 "nbformat": 4,
 "nbformat_minor": 5
}
