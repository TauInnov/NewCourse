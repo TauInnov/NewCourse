{
 "cells": [
  {
   "cell_type": "markdown",
   "id": "db2cc1db-c540-4bfb-a690-9be2a51d0705",
   "metadata": {},
   "source": [
    "# Welcome! \n",
    "This template is an explanatory guide for creating your own webcourse.<br>\n",
    "This course template is based on Barak Hirshberg's Molecular Simulations course template,\n",
    "take a look: [Molecular Simulations](https://barakhirshberg.github.io/MolecularSimulations/intro.html)\n"
   ]
  },
  {
   "cell_type": "markdown",
   "id": "848922c7-9a4b-40c1-9bfc-8be172721a32",
   "metadata": {},
   "source": [
    "## What is This?\n",
    "In this tutorial you will learn how to open, edit, publish and share a course in the Jupyter Lab environment, in order to create a Jupyter Book for your course.<br>\n",
    "\n",
    "## 1. Course Structure\n",
    "A Jupytre Book is an open-source tool used for creating interactive, web-based books and documents from computational notebooks. It allows authors to combine text, code, mathematical equations, visualizations, and other multimedia content into a cohesive narrative that can be easily shared and published online. \n",
    "### This is the basic structure of a Book:\n",
    "- #### Book Directory:\n",
    "This is the main directory (found at the left of the screeen) containing all the files and folders related to your course Book.\n",
    "- #### Chapters and Sections:\n",
    "Each chapter of your book typically corresponds to a Jupyter notebook file (`.ipynb`) or a Markdown file (`.md`). These files contain the actual content of your book, including text, code, and visualizations.\n",
    "- #### Table of Contents (toc.yml):\n",
    "A `.yml` file that defines the structure of your book, including chapters, sections, and subsections. It serves as the roadmap for navigating through your book.\n",
    "- #### Configuration Files:\n",
    "These files define various settings and options for your book, such as theme customization, plugins, and metadata. Common configuration files include _config.yml for general settings and _toc.yml for customizing the table of contents.\n",
    "- #### Output Files:\n",
    "When you build your book (We will exaplin later how), Jupyter Book generates HTML pages and other output formats (e.g., PDF, ePub) based on your content and configuration. These output files are stored in a the `_build` directory at the top of the topics to the left.\n",
    "- #### Scripts:\n",
    "Building, publishing and uploading your Book to the web might seem tricky at first. To make things easier we creates several scripts with indicative names that do the work for you. These scripts can be found in the `scripts` directory."
   ]
  },
  {
   "cell_type": "markdown",
   "id": "384d1ca4-98fd-4a5e-9105-7c992361866e",
   "metadata": {},
   "source": [
    "## 2. Editing topics\n",
    "To enter edit mode, you will need to double click the current cell. This will allow you to make changes, try it! \n",
    "\n",
    "\n",
    "\n",
    "The notebooks supports two cell forms. on the top of this page, on the edit bar you will find a `Markdown` sign. Clicking it will open a selection menu with two important cell options:\n",
    "- `Markdown` : suitable for text and math.\n",
    "- `Code`: integrated code environment supporting python, with code execution and output display.\n"
   ]
  },
  {
   "cell_type": "markdown",
   "id": "14d19b89-64ba-4588-92d3-6acddf808ece",
   "metadata": {},
   "source": [
    "## 3. Apply changes\n",
    "Clicking the play button ![title](images/play.png) on the top edit bar will make the changes take effect. You can also use the short key `Shift+Enter` to apply changes. Be aware that these changes are locally \n"
   ]
  },
  {
   "cell_type": "markdown",
   "id": "e6216c99-0d2a-47ec-9aa1-ee1260fe8d79",
   "metadata": {},
   "source": [
    "## 4. Creating new topics\n",
    "Adding new cells can be done by using the third symbol from right ![title](images/add.png) in this current cell when in edit mode.\n",
    "Alternatively you can click in the left margin of this sell, then press `B` for a following new cell or `A` for adding it before the current cell.\n"
   ]
  },
  {
   "cell_type": "markdown",
   "id": "4898c92e-8ab3-4b07-9f3e-cb0e6df0e8b0",
   "metadata": {},
   "source": [
    "Additionally, you can open a new notebook by clicking the plus sign `+` on the top of this page, select the notebook python3 launcher and rename the new notebook by right clicking its tab. \n",
    "\n"
   ]
  },
  {
   "cell_type": "markdown",
   "id": "d5380518-a419-4d15-a1b8-6902967b64ca",
   "metadata": {},
   "source": [
    "## 5. Editing the Table of Contents (_toc.yml file)\n",
    "On the left side of this page in the list you will find the `_toc.yml` file. Your Book’s order is determined by this file which holds a structure that Jupyter Book uses to create the order and nesting of pages. <br>\n",
    "This Book holds the Welcome page at it's root, which is the main page users will see when accessing the Book website. All other files that appear under the chapter section will be included in the book in the same order. Files that are not mentioned in the table of contents will not appear as part of the Book, while still being acessible in edit mode and in the Github repository. <br>\n",
    "Click the `_toc.yml` file and add a new page to the book by adding `- file: Template` in a new line."
   ]
  },
  {
   "cell_type": "markdown",
   "id": "8e81d661-bf2f-4dca-ac2b-980604dea5da",
   "metadata": {},
   "source": [
    "## 6. Update the Book (build)\n",
    "Next, we would like to update the changes you have made to this Book and view it in reading mode. On the left side of your screen, in the script directory you will find multiple scripts. These scripts will allow you to handle the manage the updates to this book: <br> \n",
    "- Click the plus sign `+` in the tab menu to open a new tab and under the `Other` section select `terminal`.\n",
    "The new opened window allow you to run scripts through the command line.\n",
    "- First type `cd scripts` and push `Enter` to access the scripts folder.\n",
    "- In order to update your Book changes, first type `./clean.sh` to remove any existing build data\n",
    "- Next type `./build.sh` for the changes to take effect."
   ]
  },
  {
   "cell_type": "markdown",
   "id": "7e7c6560-89a8-45f3-b632-bec49f6d9e3a",
   "metadata": {},
   "source": [
    "## 7. View the changes in reader mode \n",
    "After calling the `./build.sh` script a local `.html` file will be built. You can access this file in your course directory:\n",
    "- Access the `_build` folder, then enter the `html` folder.\n",
    "- Double clicking the file `index.html` will open a web page where you can see the current version of your webcourse. Remember this is a local file, we still need to update it online for the course to be globaly accessible. "
   ]
  },
  {
   "cell_type": "markdown",
   "id": "dd2a87d9-5f48-46cc-a928-685d8057668a",
   "metadata": {},
   "source": [
    "## 8. Special page contents\n",
    "Jupyter Book supports special contents and data manipulations:\n",
    "- Math expressions\n",
    "- Python plots\n",
    "- Tables\n",
    "- Active learning"
   ]
  },
  {
   "cell_type": "markdown",
   "id": "90ab3a8c-0371-4c12-ba86-615875d4ac8b",
   "metadata": {},
   "source": [
    "## 9. Publish book online \n",
    "Jupyter Book makes it easy to publish your work online using a special script that uses the 'ghp-import' package. This script helps you quickly put your Jupyter Notebooks, Markdown files, and other content onto GitHub Pages, a place where you can share your work with others. Instead of worrying about the technical stuff, like how to convert your files or where to put them, the script takes care of it for you:\n",
    "- Click the plus sign `+` in the tab menu to open a new tab and under the `Other` section select `terminal`.\n",
    "- Type `cd scripts` and push `Enter` to access the scripts folder.\n",
    "- Type `./publish.sh` to deploy your Jupyter Books onto GitHub Pages. <br>\n",
    "\n",
    "Remember this command is called after you built your Book locally, so keep in mind the online book will match your local version."
   ]
  },
  {
   "cell_type": "markdown",
   "id": "e2b3178d-486c-4ac8-82e2-b8d15a81bb2f",
   "metadata": {},
   "source": [
    "## 10. Save and track your changes with git\n",
    "Saving and tracking your work with Git is one of the most poplar ways to manage your computer files. With a special script, you can easily save your work and see what changes you've made. If you're working with others, Git helps you stay coordinated by letting you see their updates and share your own.\n",
    "To save and track your changes:\n",
    "- Click the plus sign `+` in the tab menu to open a new tab and under the `Other` section select `terminal`.\n",
    "- Type `cd scripts` and push `Enter` to access the scripts folder.\n",
    "- Type `./commit_push.sh` to add the changes to the github repository, and push it online. "
   ]
  }
 ],
 "metadata": {
  "kernelspec": {
   "display_name": "Python 3 (ipykernel)",
   "language": "python",
   "name": "python3"
  },
  "language_info": {
   "codemirror_mode": {
    "name": "ipython",
    "version": 3
   },
   "file_extension": ".py",
   "mimetype": "text/x-python",
   "name": "python",
   "nbconvert_exporter": "python",
   "pygments_lexer": "ipython3",
   "version": "3.10.12"
  }
 },
 "nbformat": 4,
 "nbformat_minor": 5
}
